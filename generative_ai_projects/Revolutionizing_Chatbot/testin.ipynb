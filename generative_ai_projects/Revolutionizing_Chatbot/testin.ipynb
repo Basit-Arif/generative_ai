{
 "cells": [
  {
   "cell_type": "code",
   "execution_count": 1,
   "metadata": {},
   "outputs": [
    {
     "data": {
      "text/plain": [
       "True"
      ]
     },
     "execution_count": 1,
     "metadata": {},
     "output_type": "execute_result"
    }
   ],
   "source": [
    "from openai import OpenAI\n",
    "from openai.types.beta import Assistant\n",
    "from openai.types.beta import Thread\n",
    "from openai.types.beta.threads.thread_message import ThreadMessage\n",
    "from openai.types.beta.threads.run import Run\n",
    "from dotenv import load_dotenv\n",
    "import os \n",
    "from typing import Any\n",
    "import time\n",
    "load_dotenv()"
   ]
  },
  {
   "cell_type": "code",
   "execution_count": 2,
   "metadata": {},
   "outputs": [],
   "source": [
    "client:OpenAI=OpenAI(api_key=os.getenv(\"Basit_key\"))"
   ]
  },
  {
   "cell_type": "code",
   "execution_count": 4,
   "metadata": {},
   "outputs": [],
   "source": [
    "message=client.beta.threads.messages.list(\n",
    "    thread_id=\"thread_kTVM103o0frsGjmvLwX2uPPD\"\n",
    ")"
   ]
  },
  {
   "cell_type": "code",
   "execution_count": 7,
   "metadata": {},
   "outputs": [
    {
     "name": "stdout",
     "output_type": "stream",
     "text": [
      "Yes, in a previous prompt you asked about data science. You specifically asked, \"please tell me about data science\".\n",
      "assistant\n",
      "did I asked about data science\n",
      "user\n",
      "Your name is Abdul Basit.\n",
      "assistant\n",
      "whats my nam\n",
      "user\n",
      "Nice to meet you, Abdul Basit! How can I assist you today?\n",
      "assistant\n",
      "my name Is abdul basit\n",
      "user\n",
      "No, I do not remember your name. As an AI language model, I do not have the capability to store or recall personal information about individuals unless explicitly provided in the course of the conversation. I am designed to respect user privacy and confidentiality. My primary function is to provide information and assist with inquiries to the best of my knowledge and abilities.\n",
      "assistant\n",
      "do remember my name\n",
      "user\n",
      "As an AI language model, I don't have the capability to remember specific dates or times. I focus on processing and generating responses based on the context of the conversation. Is there anything else I can help you with?\n",
      "assistant\n",
      "did you remember time\n",
      "user\n",
      "You asked the question \"how are you?\" as your first prompt at the beginning of our conversation.\n",
      "assistant\n",
      "when did I ask it \n",
      "user\n",
      "Your first prompt was \"how are you?\".\n",
      "assistant\n",
      "whats my first prompt\n",
      "user\n",
      "I am an AI language model developed by OpenAI, and I don't have a personal name. However, you can refer to me as the OpenAI Assistant. How can I assist you today?\n",
      "assistant\n",
      "what your name\n",
      "user\n",
      "Hello! How can I assist you today?\n",
      "assistant\n",
      "hello\n",
      "user\n",
      "Hello! How can I assist you today?\n",
      "assistant\n",
      "hello\n",
      "user\n"
     ]
    }
   ],
   "source": [
    "for i in range(len(message.data)):   \n",
    "    print(message.data[i].content[0].text.value)\n",
    "    print(message.data[i].role)\n",
    "    "
   ]
  },
  {
   "cell_type": "code",
   "execution_count": 37,
   "metadata": {},
   "outputs": [
    {
     "name": "stdout",
     "output_type": "stream",
     "text": [
      "0\n",
      "1\n"
     ]
    }
   ],
   "source": [
    "for i in range(0,2):\n",
    "    print(i)"
   ]
  },
  {
   "cell_type": "code",
   "execution_count": null,
   "metadata": {},
   "outputs": [],
   "source": []
  }
 ],
 "metadata": {
  "kernelspec": {
   "display_name": "Python 3.11.5 ('base')",
   "language": "python",
   "name": "python3"
  },
  "language_info": {
   "codemirror_mode": {
    "name": "ipython",
    "version": 3
   },
   "file_extension": ".py",
   "mimetype": "text/x-python",
   "name": "python",
   "nbconvert_exporter": "python",
   "pygments_lexer": "ipython3",
   "version": "3.11.5"
  },
  "orig_nbformat": 4,
  "vscode": {
   "interpreter": {
    "hash": "78a73e9cea53431a004a8cb57099f417374d636685740d6545615ecc2fea032b"
   }
  }
 },
 "nbformat": 4,
 "nbformat_minor": 2
}
